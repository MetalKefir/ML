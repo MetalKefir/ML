{
 "cells": [
  {
   "cell_type": "code",
   "execution_count": 2,
   "metadata": {},
   "outputs": [],
   "source": [
    "%matplotlib inline\n",
    "import os\n",
    "import math\n",
    "import matplotlib\n",
    "import numpy as np\n",
    "import pandas as pd\n",
    "import matplotlib.pyplot as plt\n",
    "\n",
    "from pandas.plotting import scatter_matrix\n",
    "\n",
    "from sklearn.pipeline import Pipeline\n",
    "from sklearn.preprocessing import StandardScaler\n",
    "from sklearn.preprocessing import Imputer\n",
    "from sklearn.metrics import mean_squared_error\n",
    "\n",
    "from sklearn.linear_model import SGDRegressor, Ridge, Lasso\n",
    "from sklearn.model_selection import train_test_split, GridSearchCV, RandomizedSearchCV\n",
    "from sklearn.base import BaseEstimator, TransformerMixin\n",
    "from sklearn.neighbors import KNeighborsRegressor\n",
    "from sklearn.ensemble import RandomForestRegressor, ExtraTreesRegressor, AdaBoostRegressor, GradientBoostingRegressor"
   ]
  },
  {
   "cell_type": "code",
   "execution_count": 3,
   "metadata": {},
   "outputs": [],
   "source": [
    "TAXIFARE_PATH = os.path.join(\"datasets\", \"NYCityTaxiFare\")\n",
    "FILE_NAME = \"train.csv\"\n",
    "SIZE_CHUNK = 0.8*(10**6)"
   ]
  },
  {
   "cell_type": "code",
   "execution_count": 4,
   "metadata": {},
   "outputs": [],
   "source": [
    "def load_taxifare_data(taxifare_path=TAXIFARE_PATH, file_name = FILE_NAME, size_chunk = SIZE_CHUNK):\n",
    "    csv_path = os.path.join(taxifare_path, file_name)\n",
    "    return pd.read_csv(csv_path, nrows = size_chunk)"
   ]
  },
  {
   "cell_type": "code",
   "execution_count": 5,
   "metadata": {},
   "outputs": [],
   "source": [
    "class LongitudeLatitudeNormalization(BaseEstimator, TransformerMixin):\n",
    "    def fit(self, X):\n",
    "        return self\n",
    "    def transform(self, taxifare):\n",
    "        taxifare = taxifare.loc[taxifare[\"pickup_longitude\"].between(-75, -72)]\n",
    "        taxifare = taxifare.loc[taxifare[\"dropoff_longitude\"].between(-75, -72)]\n",
    "        \n",
    "        taxifare = taxifare.loc[taxifare[\"pickup_latitude\"].between(40, 42)]\n",
    "        taxifare = taxifare.loc[taxifare[\"dropoff_latitude\"].between(40, 42)]\n",
    "        return taxifare"
   ]
  },
  {
   "cell_type": "code",
   "execution_count": 6,
   "metadata": {},
   "outputs": [],
   "source": [
    "class PassengerCountNormalization(BaseEstimator, TransformerMixin):\n",
    "    def fit(self, X):\n",
    "        return self\n",
    "    def transform(self, taxifare):\n",
    "        taxifare = taxifare.loc[taxifare[\"passenger_count\"] < 6]\n",
    "        return taxifare"
   ]
  },
  {
   "cell_type": "code",
   "execution_count": 7,
   "metadata": {},
   "outputs": [],
   "source": [
    "class FareAmountNormalization(BaseEstimator, TransformerMixin):\n",
    "    def fit(self, X):\n",
    "        return self\n",
    "    def transform(self, taxifare):\n",
    "        taxifare = taxifare.drop(taxifare[(taxifare.fare_amount < 0) | (taxifare.fare_amount > 96)].index)\n",
    "        return taxifare"
   ]
  },
  {
   "cell_type": "code",
   "execution_count": 8,
   "metadata": {},
   "outputs": [],
   "source": [
    "class DistanceNormalization(BaseEstimator, TransformerMixin):\n",
    "    def fit(self, X):\n",
    "        return self\n",
    "    def transform(self, taxifare):\n",
    "        taxifare = taxifare.drop(taxifare[(taxifare.distance_km < 0.2) | (taxifare.distance_km > 35)].index)\n",
    "        return taxifare"
   ]
  },
  {
   "cell_type": "code",
   "execution_count": 9,
   "metadata": {},
   "outputs": [],
   "source": [
    "class DistanceAttributeAdder(BaseEstimator, TransformerMixin):\n",
    "    def fit(self, X):\n",
    "        return self\n",
    "    def transform(self, X):\n",
    "        dlong = np.radians(abs(X[\"pickup_longitude\"] - X[\"dropoff_longitude\"]))\n",
    "        dlat = np.radians(abs(X[\"pickup_latitude\"] - X[\"dropoff_latitude\"]))\n",
    "        distance = 2 * np.arcsin(np.sqrt(np.sin(dlat/2)**2 + np.cos(40.721319) * np.cos(40.712278) * np.sin(dlong/2)**2))\n",
    "        distance *= 6358.439582092777\n",
    "        X[\"distance_km\"] = distance\n",
    "        return X"
   ]
  },
  {
   "cell_type": "code",
   "execution_count": 10,
   "metadata": {},
   "outputs": [],
   "source": [
    "class DeleteAttributes(BaseEstimator, TransformerMixin):\n",
    "    def __init__(self, drop_columns):\n",
    "        self.drop_columns = drop_columns\n",
    "    def fit(self, X):\n",
    "        return self\n",
    "    def transform(self, X):\n",
    "        return (X.drop(self.drop_columns, axis = 1)).values"
   ]
  },
  {
   "cell_type": "code",
   "execution_count": 11,
   "metadata": {
    "scrolled": true
   },
   "outputs": [],
   "source": [
    "def prepared_data(data):\n",
    "    X_data_intermediate = pipeline.fit_transform(data)\n",
    "    scaler = StandardScaler()\n",
    "    X_data_prepared = np.c_[X_data_intermediate[:, 1:]]\n",
    "    y_lebels = X_data_intermediate[:, 0]\n",
    "    return X_data_prepared, y_lebels"
   ]
  },
  {
   "cell_type": "code",
   "execution_count": 12,
   "metadata": {},
   "outputs": [],
   "source": [
    "drop_columns = [\"key\", \"pickup_datetime\", \"pickup_latitude\", \n",
    "              \"dropoff_latitude\",\"passenger_count\", \"dropoff_longitude\", \"pickup_longitude\"]\n",
    "\n",
    "pipeline = Pipeline([\n",
    "    ('longitude_latitude_normalization', LongitudeLatitudeNormalization()),\n",
    "    ('passenger_count_normalization', PassengerCountNormalization()),\n",
    "    ('distance_add', DistanceAttributeAdder()),\n",
    "    ('fare_amount_normalization', FareAmountNormalization()),\n",
    "    ('distance_normalization', DistanceNormalization()),\n",
    "    ('delete_attributes', DeleteAttributes(drop_columns)),\n",
    "])"
   ]
  },
  {
   "cell_type": "code",
   "execution_count": 13,
   "metadata": {},
   "outputs": [],
   "source": [
    "X_train, X_test = train_test_split(load_taxifare_data(), test_size = 0.2, random_state = 42)"
   ]
  },
  {
   "cell_type": "code",
   "execution_count": 14,
   "metadata": {},
   "outputs": [],
   "source": [
    "X_train = LongitudeLatitudeNormalization().transform(X_train)"
   ]
  },
  {
   "cell_type": "code",
   "execution_count": 16,
   "metadata": {},
   "outputs": [
    {
     "data": {
      "text/plain": [
       "[<matplotlib.lines.Line2D at 0x16b3ca110f0>]"
      ]
     },
     "execution_count": 16,
     "metadata": {},
     "output_type": "execute_result"
    },
    {
     "data": {
      "image/png": "[encoded data removed]",
      "text/plain": [
       "<Figure size 432x288 with 1 Axes>"
      ]
     },
     "metadata": {},
     "output_type": "display_data"
    }
   ],
   "source": [
    "plt.plot(X_train[\"pickup_longitude\"], X_train[\"fare_amount\"], \"bo\", alpha = 0.1)"
   ]
  },
  {
   "cell_type": "code",
   "execution_count": 15,
   "metadata": {},
   "outputs": [],
   "source": [
    "X_train_prepared, y_train = prepared_data(X_train)"
   ]
  },
  {
   "cell_type": "markdown",
   "metadata": {},
   "source": [
    "# MODEL ZONE"
   ]
  },
  {
   "cell_type": "code",
   "execution_count": null,
   "metadata": {},
   "outputs": [],
   "source": [
    "def rmse(estimator, data_set, lables):\n",
    "    lables_pred = estimator.predict(data_set)\n",
    "    mse = mean_squared_error(lables, lables_pred)\n",
    "    rmse = np.sqrt(mse)\n",
    "    return rmse"
   ]
  },
  {
   "cell_type": "code",
   "execution_count": 21,
   "metadata": {},
   "outputs": [],
   "source": [
    "forest_reg = RandomForestRegressor(bootstrap=False, criterion='mse', max_depth=14,\n",
    "           max_features=1, max_leaf_nodes=None, min_impurity_decrease=0.0,\n",
    "           min_impurity_split=None, min_samples_leaf=20,\n",
    "           min_samples_split=11, min_weight_fraction_leaf=0.0,\n",
    "           n_estimators=120, n_jobs=-1, oob_score=False, random_state=42,\n",
    "           verbose=0, warm_start=False)\n",
    "extratree_reg = ExtraTreesRegressor(bootstrap=False, criterion='mse', max_depth=14,\n",
    "           max_features=1, max_leaf_nodes=None, min_impurity_decrease=0.0,\n",
    "           min_impurity_split=None, min_samples_leaf=20,\n",
    "           min_samples_split=11, min_weight_fraction_leaf=0.0,\n",
    "           n_estimators=120, n_jobs=-1, oob_score=False, random_state=42,\n",
    "           verbose=0, warm_start=False)\n",
    "ridge_reg = Ridge(alpha = 1, solver=\"cholesky\", max_iter=100000) \n",
    "lasso_reg = Lasso(alpha = 0.01)\n",
    "sgd_reg =  SGDRegressor(penalty=\"l2\")"
   ]
  },
  {
   "cell_type": "code",
   "execution_count": 22,
   "metadata": {
    "scrolled": false
   },
   "outputs": [
    {
     "name": "stdout",
     "output_type": "stream",
     "text": [
      "\n",
      "Модель Ridge(alpha=1, copy_X=True, fit_intercept=True, max_iter=100000,\n",
      "   normalize=False, random_state=None, solver='cholesky', tol=0.001)\n",
      "\n",
      "Модель Lasso(alpha=0.01, copy_X=True, fit_intercept=True, max_iter=1000,\n",
      "   normalize=False, positive=False, precompute=False, random_state=None,\n",
      "   selection='cyclic', tol=0.0001, warm_start=False)\n"
     ]
    }
   ],
   "source": [
    "estimators = [ridge_reg, lasso_reg]\n",
    "\n",
    "for estimator in estimators:\n",
    "    print(\"\\nМодель\", estimator)\n",
    "    estimator.fit(X_train_prepared, y_train)"
   ]
  },
  {
   "cell_type": "code",
   "execution_count": null,
   "metadata": {},
   "outputs": [],
   "source": [
    "X_val, y_val = prepared_data(X_test)"
   ]
  },
  {
   "cell_type": "code",
   "execution_count": null,
   "metadata": {
    "scrolled": true
   },
   "outputs": [],
   "source": [
    "for estimator in estimators:\n",
    "    print(\"\\nМодель\", estimator)\n",
    "    print(\"RMSE train:\", rmse(estimator, X_train_prepared, y_train))\n",
    "    print(\"RMSE test:\", rmse(estimator, X_val[:10000], y_val[:10000]))\n",
    "    print(\"RMSE fulltest:\", rmse(estimator, X_val, y_val))"
   ]
  },
  {
   "cell_type": "code",
   "execution_count": null,
   "metadata": {},
   "outputs": [],
   "source": [
    "plt.plot(X_val, y_val, \"bo\", alpha = 0.3)\n",
    "plt.plot(X_val, lasso_reg.predict(X_val), \"bo\", alpha = 0.3, color='red')\n",
    "plt.plot(X_val, ridge_reg.predict(X_val), \"bo\", alpha = 0.3, color='green')\n",
    "#plt.plot(X_val[:10000], forest_reg.predict(X_val[:10000]), \"bo\", alpha = 0.3, color='black')\n",
    "#plt.plot(X_val[:10000], extratree_reg.predict(X_val[:10000]), \"bo\", alpha = 0.3, color='white')"
   ]
  },
  {
   "cell_type": "code",
   "execution_count": 16,
   "metadata": {
    "scrolled": true
   },
   "outputs": [],
   "source": [
    "TAXIFARE_PATH = os.path.join(\"datasets\", \"NYCityTaxiFare\")\n",
    "FILE_NAME = \"test.csv\"\n",
    "csv_path = os.path.join(TAXIFARE_PATH, FILE_NAME)\n",
    "\n",
    "X_test = pd.read_csv(csv_path)"
   ]
  },
  {
   "cell_type": "code",
   "execution_count": 17,
   "metadata": {},
   "outputs": [],
   "source": [
    "X_test_control= X_test.copy()"
   ]
  },
  {
   "cell_type": "code",
   "execution_count": 18,
   "metadata": {},
   "outputs": [],
   "source": [
    "drop_columns = [\"key\", \"pickup_datetime\", \"pickup_latitude\", \n",
    "              \"dropoff_latitude\",\"passenger_count\", \"dropoff_longitude\", \"pickup_longitude\"]\n",
    "\n",
    "pipeline_test = Pipeline([\n",
    "    ('distance_add', DistanceAttributeAdder()),\n",
    "    ('delete_attributes', DeleteAttributes(drop_columns)),\n",
    "    ('scaler', StandardScaler())\n",
    "])"
   ]
  },
  {
   "cell_type": "code",
   "execution_count": 19,
   "metadata": {},
   "outputs": [],
   "source": [
    "X_test_prepared = pipeline_test.fit_transform(X_test_control)"
   ]
  },
  {
   "cell_type": "code",
   "execution_count": null,
   "metadata": {},
   "outputs": [],
   "source": [
    "X_test_prepared.shape"
   ]
  },
  {
   "cell_type": "code",
   "execution_count": 23,
   "metadata": {},
   "outputs": [],
   "source": [
    "y_test_pred = lasso_reg.predict(X_test_prepared)"
   ]
  },
  {
   "cell_type": "code",
   "execution_count": null,
   "metadata": {},
   "outputs": [],
   "source": [
    "y_test_pred"
   ]
  },
  {
   "cell_type": "code",
   "execution_count": 36,
   "metadata": {},
   "outputs": [
    {
     "data": {
      "text/plain": [
       "[<matplotlib.lines.Line2D at 0x1a89544c7b8>]"
      ]
     },
     "execution_count": 36,
     "metadata": {},
     "output_type": "execute_result"
    },
    {
     "data": {
      "image/png": "[encoded data removed]",
      "text/plain": [
       "<Figure size 432x288 with 1 Axes>"
      ]
     },
     "metadata": {},
     "output_type": "display_data"
    }
   ],
   "source": [
    "X_train, X_test = train_test_split(load_taxifare_data(), test_size = 0.2, random_state = 42)\n",
    "X_train = LongitudeLatitudeNormalization().transform(X_train)\n",
    "\n",
    "X_test = pd.read_csv(csv_path)\n",
    "\n",
    "plt.plot(X_train[\"pickup_longitude\"], X_train[\"pickup_latitude\"], \"bo\", alpha = 0.1)\n",
    "plt.plot(X_test[\"pickup_longitude\"], X_test[\"pickup_latitude\"], \"bo\", alpha = 1, color='red')\n"
   ]
  },
  {
   "cell_type": "code",
   "execution_count": null,
   "metadata": {},
   "outputs": [],
   "source": [
    "TAXIFARE_PATH = os.path.join(\"datasets\", \"NYCityTaxiFare\")\n",
    "csv_path = os.path.join(TAXIFARE_PATH, 'submission.csv')"
   ]
  },
  {
   "cell_type": "code",
   "execution_count": null,
   "metadata": {},
   "outputs": [],
   "source": [
    "submission = pd.DataFrame(\n",
    "    {'key': X_test.key, 'fare_amount': y_test_pred},\n",
    "    columns = ['key', 'fare_amount'])\n",
    "submission.to_csv(csv_path, index = False)"
   ]
  },
  {
   "cell_type": "code",
   "execution_count": null,
   "metadata": {},
   "outputs": [],
   "source": []
  }
 ],
 "metadata": {
  "kernelspec": {
   "display_name": "Python 3",
   "language": "python",
   "name": "python3"
  },
  "language_info": {
   "codemirror_mode": {
    "name": "ipython",
    "version": 3
   },
   "file_extension": ".py",
   "mimetype": "text/x-python",
   "name": "python",
   "nbconvert_exporter": "python",
   "pygments_lexer": "ipython3",
   "version": "3.6.5"
  }
 },
 "nbformat": 4,
 "nbformat_minor": 2
}
