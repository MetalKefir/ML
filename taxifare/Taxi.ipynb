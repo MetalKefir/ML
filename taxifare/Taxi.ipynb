{
 "cells": [
  {
   "cell_type": "code",
   "execution_count": 1,
   "metadata": {},
   "outputs": [
    {
     "name": "stderr",
     "output_type": "stream",
     "text": [
      "F:\\ML\\Anaconda3\\lib\\site-packages\\h5py\\__init__.py:36: FutureWarning: Conversion of the second argument of issubdtype from `float` to `np.floating` is deprecated. In future, it will be treated as `np.float64 == np.dtype(float).type`.\n",
      "  from ._conv import register_converters as _register_converters\n"
     ]
    }
   ],
   "source": [
    "%matplotlib inline\n",
    "import os\n",
    "import math\n",
    "import matplotlib\n",
    "import numpy as np\n",
    "import pandas as pd\n",
    "import matplotlib.pyplot as plt\n",
    "import seaborn as sns\n",
    "import tensorflow as tf\n",
    "from functools import partial\n",
    "\n",
    "from pandas.plotting import scatter_matrix\n",
    "\n",
    "from sklearn.externals import joblib\n",
    "\n",
    "from sklearn.pipeline import Pipeline\n",
    "from sklearn.preprocessing import StandardScaler, MinMaxScaler\n",
    "from sklearn.metrics import mean_squared_error\n",
    "\n",
    "from sklearn.model_selection import train_test_split, GridSearchCV, RandomizedSearchCV\n",
    "from sklearn.neighbors import KNeighborsRegressor\n",
    "from sklearn.ensemble import RandomForestRegressor, ExtraTreesRegressor, AdaBoostRegressor, GradientBoostingRegressor;"
   ]
  },
  {
   "cell_type": "code",
   "execution_count": 2,
   "metadata": {},
   "outputs": [],
   "source": [
    "TAXIFARE_PATH = os.path.join(\"../datasets\", \"NYCityTaxiFare\")\n",
    "FILE_NAME = \"train.csv\"\n",
    "SIZE_CHUNK = 1*(10**6) #размер пакета данных в миллионах образцов\n",
    "R = 6371 #радиус Земли для вычисления растояния"
   ]
  },
  {
   "cell_type": "code",
   "execution_count": 3,
   "metadata": {},
   "outputs": [],
   "source": [
    "#выбор N рандомных мини-пакетов для обучения нейронной сети\n",
    "def random_batch(X_train, y_train, batch_size):\n",
    "    rnd_index = np.random.randint(0, len(X_train), batch_size) # создаем случайные индексы строк\n",
    "    X_batch = X_train[rnd_index, :]\n",
    "    y_batch = y_train.values[rnd_index]\n",
    "    return X_batch, y_batch"
   ]
  },
  {
   "cell_type": "code",
   "execution_count": 4,
   "metadata": {},
   "outputs": [],
   "source": [
    "def load_taxifare_data(taxifare_path=TAXIFARE_PATH, file_name = FILE_NAME, size_chunk = SIZE_CHUNK):\n",
    "    csv_path = os.path.join(taxifare_path, file_name)\n",
    "    return pd.read_csv(csv_path, nrows = size_chunk)"
   ]
  },
  {
   "cell_type": "code",
   "execution_count": 5,
   "metadata": {},
   "outputs": [],
   "source": [
    "#подсчет ошибки конкретной модели\n",
    "def rmse(estimator, data_set, lables):\n",
    "    lables_pred = estimator.predict(data_set)\n",
    "    mse = mean_squared_error(lables, lables_pred)\n",
    "    rmse = np.sqrt(mse)\n",
    "    return rmse"
   ]
  },
  {
   "cell_type": "code",
   "execution_count": 6,
   "metadata": {},
   "outputs": [],
   "source": [
    "#Подсчет прямого расстояния между точками отбытия и прибытия (https://en.wikipedia.org/wiki/Haversine_formula)\n",
    "def haversine_np(lon1, lat1, lon2, lat2):\n",
    "    lon1, lat1, lon2, lat2 = map(np.radians, [lon1, lat1, lon2, lat2]) #переводим координаты(градусы) в радианы\n",
    "\n",
    "    dlon = lon2 - lon1\n",
    "    dlat = lat2 - lat1\n",
    "\n",
    "    temp = np.sin(dlat/2.0)**2 + np.cos(lat1) * np.cos(lat2) * np.sin(dlon/2.0)**2\n",
    "    d = 2 * np.arcsin(np.sqrt(temp))\n",
    "    d_km = R * d #получаем расстояние в километрах\n",
    "    \n",
    "    return d_km"
   ]
  },
  {
   "cell_type": "code",
   "execution_count": 7,
   "metadata": {},
   "outputs": [],
   "source": [
    "# удаление координат лежащих на воде\n",
    "def remove_datapoints_from_water(df):\n",
    "    def lonlat_to_xy(longitude, latitude, dx, dy, BB):\n",
    "        return (dx*(longitude - BB[0])/(BB[1]-BB[0])).astype('int'), \\\n",
    "               (dy - dy*(latitude - BB[2])/(BB[3]-BB[2])).astype('int')\n",
    "\n",
    "    # рамка ограничения\n",
    "    BB = (-74.5, -72.8, 40.5, 41.8)\n",
    "    \n",
    "    # преобразование карты в массив булевых значений\n",
    "    # Земля = True, Вода = False\n",
    "    nyc_mask = plt.imread('https://aiblog.nl/download/nyc_mask-74.5_-72.8_40.5_41.8.png')[:,:,0] > 0.9\n",
    "    \n",
    "\n",
    "    pickup_x, pickup_y = lonlat_to_xy(df.pickup_longitude, df.pickup_latitude, \n",
    "                                      nyc_mask.shape[1], nyc_mask.shape[0], BB)\n",
    "    dropoff_x, dropoff_y = lonlat_to_xy(df.dropoff_longitude, df.dropoff_latitude, \n",
    "                                      nyc_mask.shape[1], nyc_mask.shape[0], BB)    \n",
    "    \n",
    "    idx = nyc_mask[pickup_y, pickup_x] & nyc_mask[dropoff_y, dropoff_x]\n",
    "    \n",
    "    return df[idx]"
   ]
  },
  {
   "cell_type": "code",
   "execution_count": 8,
   "metadata": {},
   "outputs": [],
   "source": [
    "def minkowski_distance(x1, x2, y1, y2, p):\n",
    "    return ((abs(x2 - x1) ** p) + (abs(y2 - y1)) ** p) ** (1 / p)"
   ]
  },
  {
   "cell_type": "code",
   "execution_count": 9,
   "metadata": {},
   "outputs": [],
   "source": [
    "taxifare_load = load_taxifare_data()"
   ]
  },
  {
   "cell_type": "code",
   "execution_count": 10,
   "metadata": {},
   "outputs": [],
   "source": [
    "taxifare = taxifare_load.copy()"
   ]
  },
  {
   "cell_type": "markdown",
   "metadata": {},
   "source": [
    "# Обработка данных"
   ]
  },
  {
   "cell_type": "markdown",
   "metadata": {},
   "source": [
    "## Удалим выбросы из загруженых данных"
   ]
  },
  {
   "cell_type": "markdown",
   "metadata": {},
   "source": [
    "### 1) 6 человек это максимум который поместится в минивэн"
   ]
  },
  {
   "cell_type": "code",
   "execution_count": 11,
   "metadata": {},
   "outputs": [],
   "source": [
    "taxifare = taxifare.loc[taxifare[\"passenger_count\"].between(1, 6)]"
   ]
  },
  {
   "cell_type": "markdown",
   "metadata": {},
   "source": [
    "### 2) стоимость ограничим от 2.5(стомость посадки) до 100(см. график)"
   ]
  },
  {
   "cell_type": "code",
   "execution_count": 12,
   "metadata": {},
   "outputs": [
    {
     "data": {
      "text/plain": [
       "<matplotlib.axes._subplots.AxesSubplot at 0x11852526d68>"
      ]
     },
     "execution_count": 12,
     "metadata": {},
     "output_type": "execute_result"
    },
    {
     "data": {
      "image/png": "[encoded data removed]",
      "text/plain": [
       "<Figure size 432x288 with 1 Axes>"
      ]
     },
     "metadata": {},
     "output_type": "display_data"
    }
   ],
   "source": [
    "sns.kdeplot(taxifare[\"fare_amount\"])"
   ]
  },
  {
   "cell_type": "code",
   "execution_count": 13,
   "metadata": {},
   "outputs": [],
   "source": [
    "taxifare = taxifare.loc[taxifare[\"fare_amount\"].between(2.5, 100)]"
   ]
  },
  {
   "cell_type": "code",
   "execution_count": 14,
   "metadata": {},
   "outputs": [
    {
     "data": {
      "text/plain": [
       "<matplotlib.axes._subplots.AxesSubplot at 0x11859317128>"
      ]
     },
     "execution_count": 14,
     "metadata": {},
     "output_type": "execute_result"
    },
    {
     "data": {
      "image/png": "[encoded data removed]",
      "text/plain": [
       "<Figure size 432x288 with 1 Axes>"
      ]
     },
     "metadata": {},
     "output_type": "display_data"
    }
   ],
   "source": [
    "sns.kdeplot(taxifare[\"fare_amount\"])"
   ]
  },
  {
   "cell_type": "markdown",
   "metadata": {},
   "source": [
    "### выше можно заметить пики между 40-60. Это поездки в аэропорты. В NY их три ~40, ~50, ~60 соотвественно"
   ]
  },
  {
   "cell_type": "markdown",
   "metadata": {},
   "source": [
    "### 3) координаты ограничим согласно координатам NY и графикам, после удалим точки лежащие на воде"
   ]
  },
  {
   "cell_type": "code",
   "execution_count": 15,
   "metadata": {},
   "outputs": [
    {
     "data": {
      "text/plain": [
       "<matplotlib.axes._subplots.AxesSubplot at 0x1185936aa90>"
      ]
     },
     "execution_count": 15,
     "metadata": {},
     "output_type": "execute_result"
    },
    {
     "data": {
      "image/png": "[encoded data removed]",
      "text/plain": [
       "<Figure size 432x288 with 1 Axes>"
      ]
     },
     "metadata": {},
     "output_type": "display_data"
    }
   ],
   "source": [
    "sns.kdeplot(taxifare[\"pickup_latitude\"])\n",
    "sns.kdeplot(taxifare[\"dropoff_latitude\"], color=\"red\")"
   ]
  },
  {
   "cell_type": "code",
   "execution_count": 16,
   "metadata": {},
   "outputs": [
    {
     "data": {
      "text/plain": [
       "<matplotlib.axes._subplots.AxesSubplot at 0x118593f2a20>"
      ]
     },
     "execution_count": 16,
     "metadata": {},
     "output_type": "execute_result"
    },
    {
     "data": {
      "image/png": "[encoded data removed]",
      "text/plain": [
       "<Figure size 432x288 with 1 Axes>"
      ]
     },
     "metadata": {},
     "output_type": "display_data"
    }
   ],
   "source": [
    "sns.kdeplot(taxifare[\"pickup_longitude\"])\n",
    "sns.kdeplot(taxifare[\"dropoff_longitude\"], color=\"red\")"
   ]
  },
  {
   "cell_type": "code",
   "execution_count": 17,
   "metadata": {},
   "outputs": [],
   "source": [
    "taxifare = taxifare.loc[taxifare[\"pickup_longitude\"].between(-74.5, -72.8)]\n",
    "taxifare = taxifare.loc[taxifare[\"dropoff_longitude\"].between(-74.5, -72.8)]"
   ]
  },
  {
   "cell_type": "code",
   "execution_count": 18,
   "metadata": {},
   "outputs": [],
   "source": [
    "taxifare = taxifare.loc[taxifare[\"pickup_latitude\"].between(40.5, 41.8)]\n",
    "taxifare = taxifare.loc[taxifare[\"dropoff_latitude\"].between(40.5, 41.8)]"
   ]
  },
  {
   "cell_type": "code",
   "execution_count": 19,
   "metadata": {},
   "outputs": [
    {
     "data": {
      "text/plain": [
       "<matplotlib.axes._subplots.AxesSubplot at 0x11859455e10>"
      ]
     },
     "execution_count": 19,
     "metadata": {},
     "output_type": "execute_result"
    },
    {
     "data": {
      "image/png": "[encoded data removed]",
      "text/plain": [
       "<Figure size 432x288 with 1 Axes>"
      ]
     },
     "metadata": {},
     "output_type": "display_data"
    }
   ],
   "source": [
    "sns.kdeplot(taxifare[\"pickup_latitude\"])\n",
    "sns.kdeplot(taxifare[\"dropoff_latitude\"], color=\"red\")"
   ]
  },
  {
   "cell_type": "code",
   "execution_count": 20,
   "metadata": {},
   "outputs": [
    {
     "data": {
      "text/plain": [
       "<matplotlib.axes._subplots.AxesSubplot at 0x118594cbb70>"
      ]
     },
     "execution_count": 20,
     "metadata": {},
     "output_type": "execute_result"
    },
    {
     "data": {
      "image/png": "[encoded data removed]",
      "text/plain": [
       "<Figure size 432x288 with 1 Axes>"
      ]
     },
     "metadata": {},
     "output_type": "display_data"
    }
   ],
   "source": [
    "sns.kdeplot(taxifare[\"pickup_longitude\"])\n",
    "sns.kdeplot(taxifare[\"dropoff_longitude\"], color=\"red\")"
   ]
  },
  {
   "cell_type": "code",
   "execution_count": 21,
   "metadata": {},
   "outputs": [
    {
     "name": "stdout",
     "output_type": "stream",
     "text": [
      "Исходный размер набора: 975165\n",
      "Размер набора после удаления: 974978\n"
     ]
    }
   ],
   "source": [
    "print('Исходный размер набора: %d' % len(taxifare))\n",
    "taxifare = remove_datapoints_from_water(taxifare)\n",
    "print('Размер набора после удаления: %d' % len(taxifare))"
   ]
  },
  {
   "cell_type": "markdown",
   "metadata": {},
   "source": [
    "### 4) Теперь мы можем подсчитать прямое расстояние между точками в колометрах\n",
    "### Можно также использовать API GoogleMaps и получить более точные расстояния по дорогам, но это будет очень дорого стоить\n",
    "\n",
    "https://en.wikipedia.org/wiki/Haversine_formula"
   ]
  },
  {
   "cell_type": "code",
   "execution_count": 22,
   "metadata": {},
   "outputs": [],
   "source": [
    "taxifare[\"distance_km\"] = haversine_np(taxifare['pickup_longitude'], taxifare['pickup_latitude'],\n",
    "                         taxifare['dropoff_longitude'], taxifare['dropoff_latitude'])"
   ]
  },
  {
   "cell_type": "code",
   "execution_count": 23,
   "metadata": {},
   "outputs": [
    {
     "data": {
      "text/plain": [
       "<matplotlib.axes._subplots.AxesSubplot at 0x11859578be0>"
      ]
     },
     "execution_count": 23,
     "metadata": {},
     "output_type": "execute_result"
    },
    {
     "data": {
      "image/png": "[encoded data removed]",
      "text/plain": [
       "<Figure size 432x288 with 1 Axes>"
      ]
     },
     "metadata": {},
     "output_type": "display_data"
    }
   ],
   "source": [
    "sns.kdeplot(taxifare[\"distance_km\"])"
   ]
  },
  {
   "cell_type": "markdown",
   "metadata": {},
   "source": [
    "### удалим поездки дальше 40км и меньше 300м. Также выше можно заметить поездки в аэропорты длиной 20км, но основной объем поездок это короткие 4-6км"
   ]
  },
  {
   "cell_type": "code",
   "execution_count": 24,
   "metadata": {},
   "outputs": [],
   "source": [
    "taxifare = taxifare.loc[taxifare[\"distance_km\"].between(0.3, 40)]"
   ]
  },
  {
   "cell_type": "code",
   "execution_count": 25,
   "metadata": {},
   "outputs": [
    {
     "data": {
      "text/plain": [
       "<matplotlib.axes._subplots.AxesSubplot at 0x118595bd160>"
      ]
     },
     "execution_count": 25,
     "metadata": {},
     "output_type": "execute_result"
    },
    {
     "data": {
      "image/png": "[encoded data removed]",
      "text/plain": [
       "<Figure size 432x288 with 1 Axes>"
      ]
     },
     "metadata": {},
     "output_type": "display_data"
    }
   ],
   "source": [
    "sns.kdeplot(taxifare[\"distance_km\"])"
   ]
  },
  {
   "cell_type": "markdown",
   "metadata": {},
   "source": [
    "### 5) Подсчитаем евклидово расстояние между координатми, а также так называемое расстояние городских кварталов или манхэттенсое расстояние(в нашем случае очень удобное)\n",
    "\n",
    "\n",
    "https://ru.wikipedia.org/wiki/Расстояние_Минковского\n",
    "\n",
    "https://ru.wikipedia.org/wiki/Евклидова_метрика\n",
    "\n",
    "https://ru.wikipedia.org/wiki/Расстояние_городских_кварталов"
   ]
  },
  {
   "cell_type": "code",
   "execution_count": 26,
   "metadata": {},
   "outputs": [],
   "source": [
    "taxifare[\"manhattan\"] = minkowski_distance(taxifare[\"pickup_longitude\"], taxifare[\"dropoff_longitude\"],\n",
    "                                       taxifare[\"pickup_latitude\"], taxifare[\"dropoff_latitude\"], 1)\n",
    "\n",
    "taxifare[\"euclidean\"] = minkowski_distance(taxifare[\"pickup_longitude\"], taxifare[\"dropoff_longitude\"],\n",
    "                                       taxifare[\"pickup_latitude\"], taxifare[\"dropoff_latitude\"], 2)"
   ]
  },
  {
   "cell_type": "markdown",
   "metadata": {},
   "source": [
    "## Построим график кореляции цены от различных признаков"
   ]
  },
  {
   "cell_type": "code",
   "execution_count": 27,
   "metadata": {},
   "outputs": [
    {
     "data": {
      "text/plain": [
       "<matplotlib.axes._subplots.AxesSubplot at 0x118596196d8>"
      ]
     },
     "execution_count": 27,
     "metadata": {},
     "output_type": "execute_result"
    },
    {
     "data": {
      "image/png": "[encoded data removed]",
      "text/plain": [
       "<Figure size 864x864 with 2 Axes>"
      ]
     },
     "metadata": {},
     "output_type": "display_data"
    }
   ],
   "source": [
    "corrs = taxifare.corr()\n",
    "\n",
    "plt.figure(figsize = (12, 12))\n",
    "sns.heatmap(corrs, annot = True, vmin = -1, vmax = 1, fmt = '.3f', cmap=plt.cm.PiYG_r)"
   ]
  },
  {
   "cell_type": "markdown",
   "metadata": {},
   "source": [
    "### самые большие зависимости наблюдаются от дистанции в километрах, манхэттенского и евклидова расстояний\n",
    "### Интресный вывод это высокие кореляции с долготой точки отбытия и прибытия, с другой стороный это логично, на юго-востоке Нью-Йорка находится его(и США) самый крупный аэропрот им. Кеннеди"
   ]
  },
  {
   "cell_type": "markdown",
   "metadata": {},
   "source": [
    "## Выберем для начала только три признака с наиболие высокими кореляциями"
   ]
  },
  {
   "cell_type": "code",
   "execution_count": 28,
   "metadata": {},
   "outputs": [],
   "source": [
    "columns = [\"distance_km\", \"euclidean\", \"manhattan\"]\n",
    "\n",
    "#\"key\", \"pickup_datetime\", \"pickup_latitude\", \"dropoff_latitude\"\n",
    "#\"dropoff_longitude\", \"pickup_longitude\", \"abs_lat_diff\", \"abs_lon_diff\", \"euclidean\", \"manhattan\"\n"
   ]
  },
  {
   "cell_type": "code",
   "execution_count": 29,
   "metadata": {},
   "outputs": [],
   "source": [
    "X = taxifare[columns]\n",
    "y = taxifare[\"fare_amount\"]"
   ]
  },
  {
   "cell_type": "markdown",
   "metadata": {},
   "source": [
    "### Проведем масштабирование входных признаков, после чего разделим данные на тренировачный и проверочный наборы"
   ]
  },
  {
   "cell_type": "code",
   "execution_count": 30,
   "metadata": {},
   "outputs": [],
   "source": [
    "scaler = MinMaxScaler()\n",
    "#scaler = StandardScaler()"
   ]
  },
  {
   "cell_type": "code",
   "execution_count": 31,
   "metadata": {},
   "outputs": [],
   "source": [
    "X = scaler.fit_transform(X)"
   ]
  },
  {
   "cell_type": "code",
   "execution_count": 32,
   "metadata": {},
   "outputs": [],
   "source": [
    "X_train, X_val, y_train, y_val= train_test_split(X, y, test_size = 20000, random_state = 42)"
   ]
  },
  {
   "cell_type": "markdown",
   "metadata": {},
   "source": [
    "# Обучение моделей"
   ]
  },
  {
   "cell_type": "markdown",
   "metadata": {},
   "source": [
    "## Выберем несколько моделей и запустим их без регуляризации"
   ]
  },
  {
   "cell_type": "code",
   "execution_count": 33,
   "metadata": {},
   "outputs": [],
   "source": [
    "gradientboost_reg = GradientBoostingRegressor(random_state = 42, presort=False)\n",
    "\n",
    "kneighbors_reg = KNeighborsRegressor(n_jobs=-1)\n",
    "\n",
    "forest_reg = RandomForestRegressor(random_state = 42, n_jobs=-1)\n",
    "\n",
    "extratree_reg = ExtraTreesRegressor(random_state = 42, n_jobs=-1)\n",
    "\n",
    "adaboost_reg = AdaBoostRegressor(random_state = 42)"
   ]
  },
  {
   "cell_type": "code",
   "execution_count": 34,
   "metadata": {},
   "outputs": [
    {
     "name": "stdout",
     "output_type": "stream",
     "text": [
      "\n",
      "Модель GradientBoostingRegressor(alpha=0.9, criterion='friedman_mse', init=None,\n",
      "             learning_rate=0.1, loss='ls', max_depth=3, max_features=None,\n",
      "             max_leaf_nodes=None, min_impurity_decrease=0.0,\n",
      "             min_impurity_split=None, min_samples_leaf=1,\n",
      "             min_samples_split=2, min_weight_fraction_leaf=0.0,\n",
      "             n_estimators=100, presort=False, random_state=42,\n",
      "             subsample=1.0, verbose=0, warm_start=False)\n",
      "\n",
      "Модель KNeighborsRegressor(algorithm='auto', leaf_size=30, metric='minkowski',\n",
      "          metric_params=None, n_jobs=-1, n_neighbors=5, p=2,\n",
      "          weights='uniform')\n",
      "\n",
      "Модель RandomForestRegressor(bootstrap=True, criterion='mse', max_depth=None,\n",
      "           max_features='auto', max_leaf_nodes=None,\n",
      "           min_impurity_decrease=0.0, min_impurity_split=None,\n",
      "           min_samples_leaf=1, min_samples_split=2,\n",
      "           min_weight_fraction_leaf=0.0, n_estimators=10, n_jobs=-1,\n",
      "           oob_score=False, random_state=42, verbose=0, warm_start=False)\n",
      "\n",
      "Модель ExtraTreesRegressor(bootstrap=False, criterion='mse', max_depth=None,\n",
      "          max_features='auto', max_leaf_nodes=None,\n",
      "          min_impurity_decrease=0.0, min_impurity_split=None,\n",
      "          min_samples_leaf=1, min_samples_split=2,\n",
      "          min_weight_fraction_leaf=0.0, n_estimators=10, n_jobs=-1,\n",
      "          oob_score=False, random_state=42, verbose=0, warm_start=False)\n",
      "\n",
      "Модель AdaBoostRegressor(base_estimator=None, learning_rate=1.0, loss='linear',\n",
      "         n_estimators=50, random_state=42)\n"
     ]
    }
   ],
   "source": [
    "estimators = [gradientboost_reg, kneighbors_reg, forest_reg, extratree_reg, adaboost_reg]\n",
    "\n",
    "for estimator in estimators:\n",
    "    print(\"\\nМодель\", estimator)\n",
    "    estimator.fit(X_train, y_train)"
   ]
  },
  {
   "cell_type": "code",
   "execution_count": 35,
   "metadata": {},
   "outputs": [
    {
     "name": "stdout",
     "output_type": "stream",
     "text": [
      "\n",
      "Модель GradientBoostingRegressor(alpha=0.9, criterion='friedman_mse', init=None,\n",
      "             learning_rate=0.1, loss='ls', max_depth=3, max_features=None,\n",
      "             max_leaf_nodes=None, min_impurity_decrease=0.0,\n",
      "             min_impurity_split=None, min_samples_leaf=1,\n",
      "             min_samples_split=2, min_weight_fraction_leaf=0.0,\n",
      "             n_estimators=100, presort=False, random_state=42,\n",
      "             subsample=1.0, verbose=0, warm_start=False)\n",
      "RMSE train: 3.7151865303712994\n",
      "RMSE test: 3.6996670333844706\n",
      "\n",
      "Модель KNeighborsRegressor(algorithm='auto', leaf_size=30, metric='minkowski',\n",
      "          metric_params=None, n_jobs=-1, n_neighbors=5, p=2,\n",
      "          weights='uniform')\n",
      "RMSE train: 3.267631803336127\n",
      "RMSE test: 4.013659729274518\n",
      "\n",
      "Модель RandomForestRegressor(bootstrap=True, criterion='mse', max_depth=None,\n",
      "           max_features='auto', max_leaf_nodes=None,\n",
      "           min_impurity_decrease=0.0, min_impurity_split=None,\n",
      "           min_samples_leaf=1, min_samples_split=2,\n",
      "           min_weight_fraction_leaf=0.0, n_estimators=10, n_jobs=-1,\n",
      "           oob_score=False, random_state=42, verbose=0, warm_start=False)\n",
      "RMSE train: 1.6982084221770921\n",
      "RMSE test: 4.042913935160711\n",
      "\n",
      "Модель ExtraTreesRegressor(bootstrap=False, criterion='mse', max_depth=None,\n",
      "          max_features='auto', max_leaf_nodes=None,\n",
      "          min_impurity_decrease=0.0, min_impurity_split=None,\n",
      "          min_samples_leaf=1, min_samples_split=2,\n",
      "          min_weight_fraction_leaf=0.0, n_estimators=10, n_jobs=-1,\n",
      "          oob_score=False, random_state=42, verbose=0, warm_start=False)\n",
      "RMSE train: 0.02564056732544385\n",
      "RMSE test: 4.296441480708192\n",
      "\n",
      "Модель AdaBoostRegressor(base_estimator=None, learning_rate=1.0, loss='linear',\n",
      "         n_estimators=50, random_state=42)\n",
      "RMSE train: 5.358145593261702\n",
      "RMSE test: 5.366256752464386\n"
     ]
    }
   ],
   "source": [
    "for estimator in estimators:\n",
    "    print(\"\\nМодель\", estimator)\n",
    "    print(\"RMSE train:\", rmse(estimator, X_train, y_train))\n",
    "    print(\"RMSE test:\", rmse(estimator, X_val, y_val))"
   ]
  },
  {
   "cell_type": "markdown",
   "metadata": {},
   "source": [
    "## Хорошие результаты показали все модели кроме адаптивного бустинга"
   ]
  },
  {
   "cell_type": "markdown",
   "metadata": {},
   "source": [
    "## Воспользуемся рандомизированым поиском для выявления лучших парамтров моделей"
   ]
  },
  {
   "cell_type": "code",
   "execution_count": 36,
   "metadata": {},
   "outputs": [],
   "source": [
    "param_dist_kn={\n",
    "            \"n_neighbors\": [5, 10, 15, 20, 25, 30, 35, 45, 55, 65, 75, 85, 95, 110, 120, 130],\n",
    "            \"weights\": [\"uniform\", \"distance\"]\n",
    "           }\n",
    "random_search_kn = RandomizedSearchCV(kneighbors_reg, param_dist_kn, n_iter=30, cv=5, verbose=5, \n",
    "                                      n_jobs = -1, error_score = 'neg_mean_squared_error')\n",
    "\n",
    "\n",
    "param_dist_gb={\n",
    "            \"max_depth\": [5, 10, 15, 20, 30, 40, 50],\n",
    "            \"n_estimators\": [50, 60, 70, 80, 90, 100, 110, 120, 130, 140],\n",
    "            \"loss\": ['ls', 'lad', 'huber', 'quantile'],\n",
    "            \"max_features\": [1, 2, 3],\n",
    "            \"max_leaf_nodes\": [20, 40, 60, 80, 100, 120, 140, 160],\n",
    "            \"learning_rate\": [0.001, 0.01, 0.1, 0.2, 0.3],\n",
    "            \"min_samples_split\": [2, 4, 8, 16, 32, 64],\n",
    "            \"min_samples_leaf\": [1, 3, 9, 27, 81],\n",
    "            \"subsample\": [0.5, 0.6, 0.7, 0.8, 0.9, 1.0]\n",
    "           }\n",
    "random_search_gb = RandomizedSearchCV(gradientboost_reg, param_dist_gb, n_iter=100, cv=5, verbose=5, \n",
    "                                      n_jobs = -1, error_score = 'neg_mean_squared_error')\n",
    "\n",
    " \n",
    "param_dist_forest={\n",
    "            \"max_depth\": [5, 10, 15, 20, 30, 40, 50],\n",
    "            \"n_estimators\": [10, 20, 30, 40, 50, 60, 70, 80, 90, 100],\n",
    "            \"max_leaf_nodes\": [20, 40, 60, 80, 100, 120, 140, 160],\n",
    "            \"min_samples_split\": [2, 4, 8, 16, 32, 64],\n",
    "            \"min_samples_leaf\": [1, 3, 9, 27, 81]\n",
    "           }\n",
    "random_search_forest = RandomizedSearchCV(forest_reg, param_dist_forest, n_iter=100, cv=5, verbose=5, \n",
    "                                      n_jobs = -1, error_score = 'neg_mean_squared_error')\n",
    "\n",
    "\n",
    "param_dist_extrtree={\n",
    "            \"max_depth\": [5, 10, 15, 20, 30, 40, 50],\n",
    "            \"n_estimators\": [10, 20, 30, 40, 50, 60, 70, 80, 90, 100],\n",
    "            \"max_leaf_nodes\": [20, 40, 60, 80, 100, 120, 140, 160],\n",
    "            \"min_samples_split\": [2, 4, 8, 16, 32, 64],\n",
    "            \"max_features\": [1, 2, 3],\n",
    "            \"min_samples_leaf\": [1, 3, 9, 27, 81]\n",
    "           }\n",
    "random_search_extrtree = RandomizedSearchCV(extratree_reg, param_dist_extrtree, n_iter=100, cv=5, verbose=5, \n",
    "                                      n_jobs = -1, error_score = 'neg_mean_squared_error')"
   ]
  },
  {
   "cell_type": "code",
   "execution_count": 37,
   "metadata": {},
   "outputs": [],
   "source": [
    "rand_seach_estimators = [random_search_kn, random_search_extrtree, random_search_forest, random_search_gb]"
   ]
  },
  {
   "cell_type": "code",
   "execution_count": 38,
   "metadata": {},
   "outputs": [
    {
     "name": "stdout",
     "output_type": "stream",
     "text": [
      "\n",
      "Модель RandomizedSearchCV(cv=5, error_score='neg_mean_squared_error',\n",
      "          estimator=KNeighborsRegressor(algorithm='auto', leaf_size=30, metric='minkowski',\n",
      "          metric_params=None, n_jobs=-1, n_neighbors=5, p=2,\n",
      "          weights='uniform'),\n",
      "          fit_params=None, iid=True, n_iter=30, n_jobs=-1,\n",
      "          param_distributions={'n_neighbors': [5, 10, 15, 20, 25, 30, 35, 45, 55, 65, 75, 85, 95, 110, 120, 130], 'weights': ['uniform', 'distance']},\n",
      "          pre_dispatch='2*n_jobs', random_state=None, refit=True,\n",
      "          return_train_score='warn', scoring=None, verbose=5)\n",
      "Fitting 5 folds for each of 30 candidates, totalling 150 fits\n"
     ]
    },
    {
     "name": "stderr",
     "output_type": "stream",
     "text": [
      "[Parallel(n_jobs=-1)]: Done   2 tasks      | elapsed:   34.3s\n",
      "[Parallel(n_jobs=-1)]: Done  56 tasks      | elapsed:  6.2min\n",
      "[Parallel(n_jobs=-1)]: Done 150 out of 150 | elapsed: 19.3min finished\n"
     ]
    },
    {
     "name": "stdout",
     "output_type": "stream",
     "text": [
      "\n",
      "Модель RandomizedSearchCV(cv=5, error_score='neg_mean_squared_error',\n",
      "          estimator=ExtraTreesRegressor(bootstrap=False, criterion='mse', max_depth=None,\n",
      "          max_features='auto', max_leaf_nodes=None,\n",
      "          min_impurity_decrease=0.0, min_impurity_split=None,\n",
      "          min_samples_leaf=1, min_samples_split=2,\n",
      "          min_weight_fraction_leaf=0.0, n_estimators=10, n_jobs=-1,\n",
      "          oob_score=False, random_state=42, verbose=0, warm_start=False),\n",
      "          fit_params=None, iid=True, n_iter=100, n_jobs=-1,\n",
      "          param_distributions={'max_depth': [5, 10, 15, 20, 30, 40, 50], 'n_estimators': [10, 20, 30, 40, 50, 60, 70, 80, 90, 100], 'max_leaf_nodes': [20, 40, 60, 80, 100, 120, 140, 160], 'min_samples_split': [2, 4, 8, 16, 32, 64], 'max_features': [1, 2, 3], 'min_samples_leaf': [1, 3, 9, 27, 81]},\n",
      "          pre_dispatch='2*n_jobs', random_state=None, refit=True,\n",
      "          return_train_score='warn', scoring=None, verbose=5)\n",
      "Fitting 5 folds for each of 100 candidates, totalling 500 fits\n"
     ]
    },
    {
     "name": "stderr",
     "output_type": "stream",
     "text": [
      "[Parallel(n_jobs=-1)]: Done   2 tasks      | elapsed:   42.7s\n",
      "[Parallel(n_jobs=-1)]: Done  56 tasks      | elapsed:  6.9min\n",
      "[Parallel(n_jobs=-1)]: Done 146 tasks      | elapsed: 17.9min\n",
      "[Parallel(n_jobs=-1)]: Done 272 tasks      | elapsed: 29.5min\n",
      "[Parallel(n_jobs=-1)]: Done 434 tasks      | elapsed: 53.3min\n",
      "[Parallel(n_jobs=-1)]: Done 500 out of 500 | elapsed: 61.0min finished\n"
     ]
    },
    {
     "name": "stdout",
     "output_type": "stream",
     "text": [
      "\n",
      "Модель RandomizedSearchCV(cv=5, error_score='neg_mean_squared_error',\n",
      "          estimator=RandomForestRegressor(bootstrap=True, criterion='mse', max_depth=None,\n",
      "           max_features='auto', max_leaf_nodes=None,\n",
      "           min_impurity_decrease=0.0, min_impurity_split=None,\n",
      "           min_samples_leaf=1, min_samples_split=2,\n",
      "           min_weight_fraction_leaf=0.0, n_estimators=10, n_jobs=-1,\n",
      "           oob_score=False, random_state=42, verbose=0, warm_start=False),\n",
      "          fit_params=None, iid=True, n_iter=100, n_jobs=-1,\n",
      "          param_distributions={'max_depth': [5, 10, 15, 20, 30, 40, 50], 'n_estimators': [10, 20, 30, 40, 50, 60, 70, 80, 90, 100], 'max_leaf_nodes': [20, 40, 60, 80, 100, 120, 140, 160], 'min_samples_split': [2, 4, 8, 16, 32, 64], 'min_samples_leaf': [1, 3, 9, 27, 81]},\n",
      "          pre_dispatch='2*n_jobs', random_state=None, refit=True,\n",
      "          return_train_score='warn', scoring=None, verbose=5)\n",
      "Fitting 5 folds for each of 100 candidates, totalling 500 fits\n"
     ]
    },
    {
     "name": "stderr",
     "output_type": "stream",
     "text": [
      "[Parallel(n_jobs=-1)]: Done   2 tasks      | elapsed:  3.4min\n",
      "[Parallel(n_jobs=-1)]: Done  56 tasks      | elapsed: 19.6min\n",
      "[Parallel(n_jobs=-1)]: Done 146 tasks      | elapsed: 54.7min\n",
      "[Parallel(n_jobs=-1)]: Done 272 tasks      | elapsed: 102.9min\n",
      "[Parallel(n_jobs=-1)]: Done 434 tasks      | elapsed: 162.6min\n",
      "[Parallel(n_jobs=-1)]: Done 500 out of 500 | elapsed: 184.1min finished\n"
     ]
    },
    {
     "name": "stdout",
     "output_type": "stream",
     "text": [
      "\n",
      "Модель RandomizedSearchCV(cv=5, error_score='neg_mean_squared_error',\n",
      "          estimator=GradientBoostingRegressor(alpha=0.9, criterion='friedman_mse', init=None,\n",
      "             learning_rate=0.1, loss='ls', max_depth=3, max_features=None,\n",
      "             max_leaf_nodes=None, min_impurity_decrease=0.0,\n",
      "             min_impurity_split=None, min_samples_leaf=1,\n",
      "             min_samples_split=2, min_weight_fraction_leaf=0.0,\n",
      "             n_estimators=100, presort=False, random_state=42,\n",
      "             subsample=1.0, verbose=0, warm_start=False),\n",
      "          fit_params=None, iid=True, n_iter=100, n_jobs=-1,\n",
      "          param_distributions={'max_depth': [5, 10, 15, 20, 30, 40, 50], 'n_estimators': [50, 60, 70, 80, 90, 100, 110, 120, 130, 140], 'loss': ['ls', 'lad', 'huber', 'quantile'], 'max_features': [1, 2, 3], 'max_leaf_nodes': [20, 40, 60, 80, 100, 120, 140, 160], 'learning_rate': [0.001, 0.01, 0.1, 0.2, 0.3], 'min_samples_split': [2, 4, 8, 16, 32, 64], 'min_samples_leaf': [1, 3, 9, 27, 81], 'subsample': [0.5, 0.6, 0.7, 0.8, 0.9, 1.0]},\n",
      "          pre_dispatch='2*n_jobs', random_state=None, refit=True,\n",
      "          return_train_score='warn', scoring=None, verbose=5)\n",
      "Fitting 5 folds for each of 100 candidates, totalling 500 fits\n"
     ]
    },
    {
     "name": "stderr",
     "output_type": "stream",
     "text": [
      "[Parallel(n_jobs=-1)]: Done   2 tasks      | elapsed:  6.2min\n",
      "[Parallel(n_jobs=-1)]: Done  56 tasks      | elapsed: 42.1min\n",
      "[Parallel(n_jobs=-1)]: Done 146 tasks      | elapsed: 129.7min\n",
      "[Parallel(n_jobs=-1)]: Done 272 tasks      | elapsed: 238.7min\n",
      "[Parallel(n_jobs=-1)]: Done 434 tasks      | elapsed: 417.4min\n",
      "[Parallel(n_jobs=-1)]: Done 500 out of 500 | elapsed: 479.7min finished\n"
     ]
    }
   ],
   "source": [
    "for estimator in rand_seach_estimators:\n",
    "    print(\"\\nМодель\", estimator)\n",
    "    estimator.fit(X_train, y_train)"
   ]
  },
  {
   "cell_type": "code",
   "execution_count": 39,
   "metadata": {},
   "outputs": [
    {
     "name": "stdout",
     "output_type": "stream",
     "text": [
      "\n",
      "Модель KNeighborsRegressor(algorithm='auto', leaf_size=30, metric='minkowski',\n",
      "          metric_params=None, n_jobs=-1, n_neighbors=130, p=2,\n",
      "          weights='uniform')\n",
      "RMSE train: 3.6475581783481466\n",
      "RMSE test: 3.676682759852601\n",
      "\n",
      "Модель ExtraTreesRegressor(bootstrap=False, criterion='mse', max_depth=20,\n",
      "          max_features=3, max_leaf_nodes=160, min_impurity_decrease=0.0,\n",
      "          min_impurity_split=None, min_samples_leaf=1, min_samples_split=8,\n",
      "          min_weight_fraction_leaf=0.0, n_estimators=90, n_jobs=-1,\n",
      "          oob_score=False, random_state=42, verbose=0, warm_start=False)\n",
      "RMSE train: 3.6893842948304902\n",
      "RMSE test: 3.6770343705585087\n",
      "\n",
      "Модель RandomForestRegressor(bootstrap=True, criterion='mse', max_depth=20,\n",
      "           max_features='auto', max_leaf_nodes=160,\n",
      "           min_impurity_decrease=0.0, min_impurity_split=None,\n",
      "           min_samples_leaf=27, min_samples_split=8,\n",
      "           min_weight_fraction_leaf=0.0, n_estimators=80, n_jobs=-1,\n",
      "           oob_score=False, random_state=42, verbose=0, warm_start=False)\n",
      "RMSE train: 3.6639685787056737\n",
      "RMSE test: 3.6844151775173324\n",
      "\n",
      "Модель GradientBoostingRegressor(alpha=0.9, criterion='friedman_mse', init=None,\n",
      "             learning_rate=0.1, loss='ls', max_depth=30, max_features=3,\n",
      "             max_leaf_nodes=60, min_impurity_decrease=0.0,\n",
      "             min_impurity_split=None, min_samples_leaf=27,\n",
      "             min_samples_split=8, min_weight_fraction_leaf=0.0,\n",
      "             n_estimators=60, presort=False, random_state=42,\n",
      "             subsample=0.8, verbose=0, warm_start=False)\n",
      "RMSE train: 3.6406276950005814\n",
      "RMSE test: 3.676153519992515\n"
     ]
    }
   ],
   "source": [
    "for estimator in rand_seach_estimators:\n",
    "    print(\"\\nМодель\", estimator.best_estimator_)\n",
    "    print(\"RMSE train:\", rmse(estimator.best_estimator_, X_train, y_train))\n",
    "    print(\"RMSE test:\", rmse(estimator.best_estimator_, X_val, y_val))"
   ]
  },
  {
   "cell_type": "markdown",
   "metadata": {},
   "source": [
    "## Результаты не очень впечатляют, но можно провести более точные подсройки или добавить больше признаков"
   ]
  },
  {
   "cell_type": "markdown",
   "metadata": {},
   "source": [
    "# Теперь попробуем построить полносвязную неройную сеть"
   ]
  },
  {
   "cell_type": "code",
   "execution_count": 33,
   "metadata": {},
   "outputs": [],
   "source": [
    "tf.reset_default_graph()"
   ]
  },
  {
   "cell_type": "markdown",
   "metadata": {},
   "source": [
    "## Создание графа"
   ]
  },
  {
   "cell_type": "markdown",
   "metadata": {},
   "source": [
    "### сеть будет двухслойной, размер входного слоя определим по количеству выбраных признаков"
   ]
  },
  {
   "cell_type": "code",
   "execution_count": 34,
   "metadata": {},
   "outputs": [],
   "source": [
    "n_inputs = len(columns)\n",
    "n_hidden1 = 40\n",
    "n_hidden2 = 10\n",
    "n_outputs = 1"
   ]
  },
  {
   "cell_type": "markdown",
   "metadata": {},
   "source": [
    "### создадим заполнители для образцов, меток и состояния(обучение/выроботка прогноза)\n",
    "### для скрытых слоев hidden1 и hidden2 применим пакетную нормализацию, иницилизацию Хе и функцию активации ELU. Это необходимо для предотвращения переобучения и взрывного роста градиентов, либо их потери."
   ]
  },
  {
   "cell_type": "code",
   "execution_count": 35,
   "metadata": {},
   "outputs": [],
   "source": [
    "X = tf.placeholder(tf.float32, shape=(None, n_inputs), name=\"X\")\n",
    "y = tf.placeholder(tf.float32, shape=(None), name=\"y\")\n",
    "training = tf.placeholder_with_default(False, shape=(), name=\"training\")"
   ]
  },
  {
   "cell_type": "code",
   "execution_count": 36,
   "metadata": {},
   "outputs": [],
   "source": [
    "he_init = tf.contrib.layers.variance_scaling_initializer()\n",
    "\n",
    "my_batch_norm_layer = partial(tf.layers.batch_normalization, training = training, momentum = 0.9)\n",
    "\n",
    "with tf.name_scope(\"dnn\"):\n",
    "    hidden1 = tf.layers.dense(X, n_hidden1, name=\"hidden1\", activation=tf.nn.relu, kernel_initializer = he_init)\n",
    "    bn1 = my_batch_norm_layer(hidden1)\n",
    "    bn1_act = tf.nn.elu(bn1)\n",
    "    \n",
    "    hidden2 = tf.layers.dense(bn1_act, n_hidden2, name=\"hidden2\", activation=tf.nn.elu, kernel_initializer = he_init)\n",
    "    bn2 = my_batch_norm_layer(hidden2)\n",
    "    bn2_act = tf.nn.elu(bn2)\n",
    "    \n",
    "    output = tf.layers.dense(bn2_act, n_outputs, name=\"output\")"
   ]
  },
  {
   "cell_type": "markdown",
   "metadata": {},
   "source": [
    "### создадим функцию потерь RMSE и оптимизатор. "
   ]
  },
  {
   "cell_type": "code",
   "execution_count": 37,
   "metadata": {},
   "outputs": [],
   "source": [
    "with tf.name_scope(\"loss\"):\n",
    "    mse = tf.losses.mean_squared_error(labels=y, predictions=output)\n",
    "    loss = tf.sqrt(mse, name=\"loss\")"
   ]
  },
  {
   "cell_type": "code",
   "execution_count": 38,
   "metadata": {},
   "outputs": [],
   "source": [
    "learning_rate = 0.001\n",
    "momentum = 0.9\n",
    "with tf.name_scope(\"train\"):\n",
    "    optimizer = tf.train.AdamOptimizer(learning_rate = learning_rate)\n",
    "    training_op = optimizer.minimize(loss)"
   ]
  },
  {
   "cell_type": "code",
   "execution_count": 39,
   "metadata": {},
   "outputs": [],
   "source": [
    "with tf.name_scope(\"eval\"):\n",
    "    mse = tf.losses.mean_squared_error(labels=y, predictions=output)\n",
    "    rmse = tf.sqrt(mse, name=\"rmse\")"
   ]
  },
  {
   "cell_type": "code",
   "execution_count": 40,
   "metadata": {},
   "outputs": [],
   "source": [
    "init = tf.global_variables_initializer()\n",
    "saver = tf.train.Saver()"
   ]
  },
  {
   "cell_type": "markdown",
   "metadata": {},
   "source": [
    "## Обучение сети"
   ]
  },
  {
   "cell_type": "markdown",
   "metadata": {},
   "source": [
    "### прогоним 100 эпох импользуя минипакетное обучениедля экономии памяти и вычислительных ресурсов\n",
    "### каждый раз, когда будет найдена модель с наименьшей ошибкой обобщения сохраним ее"
   ]
  },
  {
   "cell_type": "code",
   "execution_count": 41,
   "metadata": {},
   "outputs": [
    {
     "name": "stdout",
     "output_type": "stream",
     "text": [
      "1 Ошибка при обучении: 9.00711 Ошибка при проверке: 9.143352\n",
      "Найдена лучшая модель на  1  итерации с ошибкой при проверке: 9.143352\n",
      "2 Ошибка при обучении: 9.010011 Ошибка при проверке: 9.127305\n",
      "Найдена лучшая модель на  2  итерации с ошибкой при проверке: 9.127305\n",
      "3 Ошибка при обучении: 9.158007 Ошибка при проверке: 9.1248665\n",
      "Найдена лучшая модель на  3  итерации с ошибкой при проверке: 9.1248665\n",
      "4 Ошибка при обучении: 10.1901655 Ошибка при проверке: 9.125404\n",
      "5 Ошибка при обучении: 9.211235 Ошибка при проверке: 9.124405\n",
      "Найдена лучшая модель на  5  итерации с ошибкой при проверке: 9.124405\n",
      "6 Ошибка при обучении: 9.288258 Ошибка при проверке: 9.145545\n",
      "7 Ошибка при обучении: 9.041377 Ошибка при проверке: 9.124856\n",
      "8 Ошибка при обучении: 9.24502 Ошибка при проверке: 9.124244\n",
      "Найдена лучшая модель на  8  итерации с ошибкой при проверке: 9.124244\n",
      "9 Ошибка при обучении: 8.293669 Ошибка при проверке: 9.125678\n",
      "10 Ошибка при обучении: 8.809855 Ошибка при проверке: 9.124272\n",
      "11 Ошибка при обучении: 9.239663 Ошибка при проверке: 9.127214\n",
      "12 Ошибка при обучении: 8.913836 Ошибка при проверке: 9.12417\n",
      "Найдена лучшая модель на  12  итерации с ошибкой при проверке: 9.12417\n",
      "13 Ошибка при обучении: 8.764212 Ошибка при проверке: 9.125433\n",
      "14 Ошибка при обучении: 9.364283 Ошибка при проверке: 9.129706\n",
      "15 Ошибка при обучении: 9.692082 Ошибка при проверке: 9.125148\n",
      "16 Ошибка при обучении: 9.39976 Ошибка при проверке: 9.127715\n",
      "17 Ошибка при обучении: 9.444755 Ошибка при проверке: 9.125807\n",
      "18 Ошибка при обучении: 9.394482 Ошибка при проверке: 9.133537\n",
      "19 Ошибка при обучении: 9.811556 Ошибка при проверке: 9.12461\n",
      "20 Ошибка при обучении: 7.7355847 Ошибка при проверке: 9.128178\n"
     ]
    }
   ],
   "source": [
    "n_epochs = 20\n",
    "batch_size = 1000\n",
    "n_batches = int(np.ceil(X_train.shape[0]/ batch_size))\n",
    "\n",
    "extra_update_ops = tf.get_collection(tf.GraphKeys.UPDATE_OPS) # необходимо для пакетной нормализации\n",
    "\n",
    "error = float(\"inf\")\n",
    "\n",
    "with tf.Session() as sess:\n",
    "    init.run()\n",
    "    for epoch in range(n_epochs):\n",
    "        for iteration in range(n_batches):\n",
    "            X_batch, y_batch = random_batch(X_train, y_train, batch_size)\n",
    "            sess.run([training_op, extra_update_ops], feed_dict={training: True, X: X_batch, y: y_batch})\n",
    "        rmse_train = rmse.eval(feed_dict={X: X_batch, y: y_batch})\n",
    "        rmse_test = rmse.eval(feed_dict={X: X_val, y: y_val})\n",
    "        \n",
    "        print(epoch+1, \"Ошибка при обучении:\", rmse_train,\n",
    "                     \"Ошибка при проверке:\", rmse_test)\n",
    "        \n",
    "        if rmse_test < error:\n",
    "            error = rmse_test\n",
    "            save_path = saver.save(sess, \"./best_model_final2/best_model_final2.ckpt\")\n",
    "            print(\"Найдена лучшая модель на \", epoch+1, \" итерации с ошибкой при проверке:\", rmse_test)"
   ]
  },
  {
   "cell_type": "markdown",
   "metadata": {},
   "source": [
    "### Предсказания нейронной сети даже хуже чем у обычных моделей, но это можно решить поиском оптимальных значений количества слоев, их размера, размера обучаещего пакета."
   ]
  },
  {
   "cell_type": "markdown",
   "metadata": {},
   "source": [
    "## Также можно попробовать добавить другие признаки к образцам, повторить анализ данных для поиска новых признаков или уточнения старых"
   ]
  },
  {
   "cell_type": "markdown",
   "metadata": {},
   "source": [
    "# Создадим файлы с результатами"
   ]
  },
  {
   "cell_type": "code",
   "execution_count": 48,
   "metadata": {
    "scrolled": true
   },
   "outputs": [],
   "source": [
    "TAXIFARE_PATH = os.path.join(\"../datasets\", \"NYCityTaxiFare\")\n",
    "FILE_NAME = \"test.csv\"\n",
    "csv_path = os.path.join(TAXIFARE_PATH, FILE_NAME)\n",
    "\n",
    "X_test_final = pd.read_csv(csv_path)"
   ]
  },
  {
   "cell_type": "code",
   "execution_count": 49,
   "metadata": {},
   "outputs": [],
   "source": [
    "X_test = X_test_final.copy()"
   ]
  },
  {
   "cell_type": "markdown",
   "metadata": {},
   "source": [
    "### к тестовым данным применем те же трансформации, что и тренировачным"
   ]
  },
  {
   "cell_type": "code",
   "execution_count": 50,
   "metadata": {},
   "outputs": [],
   "source": [
    "X_test[\"distance_km\"] = haversine_np(X_test['pickup_longitude'], X_test['pickup_latitude'],\n",
    "                         X_test['dropoff_longitude'], X_test['dropoff_latitude'])\n",
    "\n",
    "X_test[\"manhattan\"] = minkowski_distance(X_test[\"pickup_longitude\"], X_test[\"dropoff_longitude\"],\n",
    "                                       X_test[\"pickup_latitude\"], X_test[\"dropoff_latitude\"], 1)\n",
    "\n",
    "X_test[\"euclidean\"] = minkowski_distance(X_test[\"pickup_longitude\"], X_test[\"dropoff_longitude\"],\n",
    "                                       X_test[\"pickup_latitude\"], X_test[\"dropoff_latitude\"], 2)"
   ]
  },
  {
   "cell_type": "code",
   "execution_count": 51,
   "metadata": {},
   "outputs": [],
   "source": [
    "X_test = X_test[columns]\n",
    "X_test = scaler.fit_transform(X_test)"
   ]
  },
  {
   "cell_type": "code",
   "execution_count": 52,
   "metadata": {},
   "outputs": [
    {
     "data": {
      "text/plain": [
       "(9914, 3)"
      ]
     },
     "execution_count": 52,
     "metadata": {},
     "output_type": "execute_result"
    }
   ],
   "source": [
    "X_test.shape"
   ]
  },
  {
   "cell_type": "markdown",
   "metadata": {},
   "source": [
    "### заргружаем лучшую модель DNN и получаем ее предсказания"
   ]
  },
  {
   "cell_type": "code",
   "execution_count": 55,
   "metadata": {},
   "outputs": [
    {
     "name": "stdout",
     "output_type": "stream",
     "text": [
      "INFO:tensorflow:Restoring parameters from ./best_model_final2/best_model_final2.ckpt\n"
     ]
    }
   ],
   "source": [
    "with tf.Session() as sess:\n",
    "    saver.restore(sess, \"./best_model_final2/best_model_final2.ckpt\")\n",
    "    y_pred_nn = output.eval(feed_dict={X: X_test})"
   ]
  },
  {
   "cell_type": "code",
   "execution_count": 56,
   "metadata": {},
   "outputs": [],
   "source": [
    "y_pred_nn = np.round(y_pred_nn, 2)"
   ]
  },
  {
   "cell_type": "code",
   "execution_count": 57,
   "metadata": {},
   "outputs": [],
   "source": [
    "y_pred_nn = y_pred_nn.reshape(-1)"
   ]
  },
  {
   "cell_type": "markdown",
   "metadata": {},
   "source": [
    "### заргружаем лучшую \"классическую\" модель и получаем ее предсказания"
   ]
  },
  {
   "cell_type": "code",
   "execution_count": null,
   "metadata": {
    "scrolled": true
   },
   "outputs": [],
   "source": [
    "y_pred_extree = random_search_extrtree.best_estimator_.predict(X_test)"
   ]
  },
  {
   "cell_type": "code",
   "execution_count": null,
   "metadata": {},
   "outputs": [],
   "source": [
    "y_pred_extree = np.round(y_pred_extree, 2)"
   ]
  },
  {
   "cell_type": "code",
   "execution_count": 61,
   "metadata": {},
   "outputs": [],
   "source": [
    "TAXIFARE_PATH = os.path.join(\"../datasets\", \"NYCityTaxiFare\")\n",
    "csv_path_nn = os.path.join(TAXIFARE_PATH, 'submission_nn.csv')\n",
    "csv_path_extree = os.path.join(TAXIFARE_PATH, 'submission_extree.csv')"
   ]
  },
  {
   "cell_type": "code",
   "execution_count": null,
   "metadata": {},
   "outputs": [],
   "source": [
    "submission_extree = pd.DataFrame(\n",
    "    {'key': X_test_final.key, 'fare_amount': y_pred_extree},\n",
    "    columns = ['key', 'fare_amount'])\n",
    "submission_extree.to_csv(csv_path_extree, index = False)"
   ]
  },
  {
   "cell_type": "code",
   "execution_count": 62,
   "metadata": {},
   "outputs": [],
   "source": [
    "submission_nn = pd.DataFrame(\n",
    "    {'key': X_test_final.key, 'fare_amount': y_pred_nn},\n",
    "    columns = ['key', 'fare_amount'])\n",
    "submission_nn.to_csv(csv_path_nn, index = False)"
   ]
  },
  {
   "cell_type": "markdown",
   "metadata": {},
   "source": [
    "## Можно отметить что у нейронной сети предполагаемая ошибка обощения в 9.13 не сильно отличается от показаной при проверке на Kaggle, там она составила 9.3\n",
    "## В свою очередь отличия у особо случайного леса в районе 0.7(3.6 ожидаемая против 4.3 реальная)\n",
    "\n",
    "## Это может быть связано с тем, что нейронная сеть лучше адаптируется к данным и сглаживает погрешности от различий в выборках. Для улучшения можно использовать стратифицированую выборку разделив образцы по группам цен"
   ]
  }
 ],
 "metadata": {
  "kernelspec": {
   "display_name": "Python 3",
   "language": "python",
   "name": "python3"
  },
  "language_info": {
   "codemirror_mode": {
    "name": "ipython",
    "version": 3
   },
   "file_extension": ".py",
   "mimetype": "text/x-python",
   "name": "python",
   "nbconvert_exporter": "python",
   "pygments_lexer": "ipython3",
   "version": "3.6.5"
  }
 },
 "nbformat": 4,
 "nbformat_minor": 2
}
